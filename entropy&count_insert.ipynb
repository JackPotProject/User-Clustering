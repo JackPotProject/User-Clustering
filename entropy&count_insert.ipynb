{
 "cells": [
  {
   "cell_type": "code",
   "execution_count": 2,
   "id": "ae83639e-2496-4123-ba65-d8ece32b1a6c",
   "metadata": {},
   "outputs": [],
   "source": [
    "import pandas as pd\n",
    "import re\n",
    "import numpy as np"
   ]
  },
  {
   "cell_type": "code",
   "execution_count": 3,
   "id": "9a6f3db0-e6ce-43d7-91eb-a4f821489ccd",
   "metadata": {},
   "outputs": [],
   "source": [
    "file_path = '../数据/用户分类数据.csv'\n",
    "pattern = re.compile(r'\\d{4}-\\d{2}-\\d{2} \\d{2}:\\d{2}')\n",
    "pattern1 = re.compile(r'<img src=.*>')"
   ]
  },
  {
   "cell_type": "code",
   "execution_count": 4,
   "id": "6b311b8f-f787-423c-802c-461b57447b8e",
   "metadata": {},
   "outputs": [
    {
     "data": {
      "text/plain": [
       "(12, 18)"
      ]
     },
     "execution_count": 4,
     "metadata": {},
     "output_type": "execute_result"
    }
   ],
   "source": [
    "pd_data = pd.read_csv(file_path)\n",
    "pd_data.shape"
   ]
  },
  {
   "cell_type": "code",
   "execution_count": 5,
   "id": "5be1c4ee-0676-4394-b1b1-a6d406d5e9ce",
   "metadata": {},
   "outputs": [],
   "source": [
    "def entropy(data):\n",
    "    _, counts = np.unique(data, return_counts=True)\n",
    "    probabilities = counts / len(data)\n",
    "    entropy_value = -np.sum(probabilities * np.log2(probabilities))\n",
    "    return entropy_value"
   ]
  },
  {
   "cell_type": "code",
   "execution_count": 8,
   "id": "23b906e7-6f0c-4513-b43a-924833331eed",
   "metadata": {},
   "outputs": [
    {
     "name": "stdout",
     "output_type": "stream",
     "text": [
      "0.9357110512652843\n",
      "0.9938067403672294\n",
      "0.3462685742714824\n",
      "-0.0\n",
      "-0.0\n",
      "-0.0\n",
      "-0.0\n",
      "0.7070040649747601\n",
      "-0.0\n",
      "-0.0\n",
      "0.977969743723391\n",
      "-0.0\n"
     ]
    },
    {
     "data": {
      "text/plain": [
       "[108, 108, 108, 1, 1, 1, 108, 108, 1, 1, 108, 108]"
      ]
     },
     "execution_count": 8,
     "metadata": {},
     "output_type": "execute_result"
    }
   ],
   "source": [
    "list_entro = []\n",
    "list_count = []\n",
    "for index in range(pd_data.shape[0]):\n",
    "    wei_str = str(pd_data.loc[index,'微博内容'])\n",
    "    wei_list = re.split(pattern,wei_str)\n",
    "    list_record = []\n",
    "    c = 0\n",
    "    for wei in wei_list:\n",
    "        url = re.search(pattern1,wei)\n",
    "        c = c+1\n",
    "        if url:\n",
    "            url = url.group()\n",
    "            if len(url) > 11:\n",
    "                list_record.append(1)\n",
    "            else:\n",
    "                list_record.append(0)\n",
    "    #print('不含url的博客有:',list_record.count(0),'含有url的博客有:',list_record.count(1))\n",
    "    np_record = np.array(list_record)\n",
    "    entropys = entropy(np_record)\n",
    "    print(entropys)\n",
    "    list_entro.append(entropys)\n",
    "    if c>108:\n",
    "        c = 108\n",
    "    list_count.append(c)\n",
    "list_count        "
   ]
  },
  {
   "cell_type": "code",
   "execution_count": 9,
   "id": "ed0baae9-6d36-4be8-a23a-4ce61fe3d76a",
   "metadata": {},
   "outputs": [],
   "source": [
    "df_en = pd.DataFrame(list_entro,columns=['发文丰富度'])\n",
    "df_count = pd.DataFrame(list_count,columns=['爬取微博数'])\n",
    "df_sum = pd.concat([pd_data,df_en,df_count],axis=1)\n",
    "df_sum.to_csv(file_path,index = False,encoding='utf_8_sig')"
   ]
  },
  {
   "cell_type": "code",
   "execution_count": null,
   "id": "da49a1f7-2573-451b-acb6-3fd155fcd63c",
   "metadata": {},
   "outputs": [],
   "source": []
  }
 ],
 "metadata": {
  "kernelspec": {
   "display_name": "Python 3 (ipykernel)",
   "language": "python",
   "name": "python3"
  },
  "language_info": {
   "codemirror_mode": {
    "name": "ipython",
    "version": 3
   },
   "file_extension": ".py",
   "mimetype": "text/x-python",
   "name": "python",
   "nbconvert_exporter": "python",
   "pygments_lexer": "ipython3",
   "version": "3.9.18"
  }
 },
 "nbformat": 4,
 "nbformat_minor": 5
}
